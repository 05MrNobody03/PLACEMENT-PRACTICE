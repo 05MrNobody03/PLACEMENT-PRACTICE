{
  "nbformat": 4,
  "nbformat_minor": 0,
  "metadata": {
    "colab": {
      "name": "DAY1-Q1.ipynb",
      "provenance": []
    },
    "kernelspec": {
      "name": "python3",
      "display_name": "Python 3"
    },
    "language_info": {
      "name": "python"
    }
  },
  "cells": [
    {
      "cell_type": "markdown",
      "source": [
        "#Q1: Write a program to reverse an array or string"
      ],
      "metadata": {
        "id": "nzR4xFtQcxPU"
      }
    },
    {
      "cell_type": "code",
      "execution_count": null,
      "metadata": {
        "id": "fwbBRlYXcrJi"
      },
      "outputs": [],
      "source": [
        "LST=[1,2,3,4,5,6,7,8,9,0]\n",
        "LST.reverse()\n",
        "print(LST)"
      ]
    },
    {
      "cell_type": "code",
      "source": [
        "'''                    \n",
        "--------------------------------------\n",
        "CODE IN C                             \n",
        "--------------------------------------\n",
        "#include<stdio.h>\n",
        "#include<stdlib.h>\n",
        "\n",
        "int main()\n",
        "{\n",
        "    int arr[]={1,2,3,4,5,6,7,8,9,0};\n",
        "    int l=(sizeof(arr)/sizeof(int));\n",
        "    int len=l%2==0?(l/2-1):(l/2);\n",
        "    int temp=0;\n",
        "    for(int i=0;i<l;i++)\n",
        "    {\n",
        "        printf(\"%d \",arr[i]);\n",
        "    }\n",
        "    printf(\"\\n\");\n",
        "    for(int i=0;i<=len;i++)\n",
        "    {\n",
        "        temp=arr[i];\n",
        "        arr[i]=arr[l-1-i];\n",
        "        arr[l-1-i]=temp;\n",
        "    }\n",
        "    for(int i=0;i<l;i++)\n",
        "    {\n",
        "        printf(\"%d \",arr[i]);\n",
        "    }\n",
        "    return 0;\n",
        "}\n",
        "'''"
      ],
      "metadata": {
        "id": "0zYx3Bo7c7Dt"
      },
      "execution_count": null,
      "outputs": []
    }
  ]
}